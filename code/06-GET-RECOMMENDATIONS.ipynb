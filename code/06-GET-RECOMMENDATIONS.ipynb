{
 "cells": [
  {
   "cell_type": "markdown",
   "id": "1b39138b-e560-4fd0-8c4e-20883e08db71",
   "metadata": {},
   "source": [
    "# Import Statements"
   ]
  },
  {
   "cell_type": "code",
   "execution_count": 1,
   "id": "932c134a-c3dd-4b65-bd1e-7d5c40271015",
   "metadata": {},
   "outputs": [],
   "source": [
    "import pandas as pd\n",
    "import numpy as np\n",
    "\n",
    "from sklearn.ensemble import RandomForestClassifier\n",
    "from sklearn.model_selection import train_test_split\n",
    "from sklearn.metrics.pairwise import cosine_similarity, pairwise_distances, cosine_distances, euclidean_distances\n",
    "\n",
    "from spotifyClient import SpotifyAPI\n",
    "from recommenderModel import RecommendSong"
   ]
  },
  {
   "cell_type": "markdown",
   "id": "cc8dedc3-f28e-4b32-a860-88bc9827bd89",
   "metadata": {},
   "source": [
    "# ---------------- Begin Here ----------------------\n",
    "## ---------- Example Recommendation Searches -----------\n",
    "### Example 1: New Light by John Mayer"
   ]
  },
  {
   "cell_type": "code",
   "execution_count": 2,
   "id": "595871ba-7474-4885-8754-df673b061936",
   "metadata": {},
   "outputs": [
    {
     "name": "stdout",
     "output_type": "stream",
     "text": [
      "For the song New Light by John Mayer, we recommend you check out:\n",
      "\n",
      "1. I Want You Back by The Jackson 5\n",
      "\n",
      "2. Brand New Key by Melanie\n",
      "\n",
      "3. Against All Odds Take A Look At Me Now  2016 Remaster by Phil Collins\n",
      "\n",
      "4. Sweet Dreams Are Made Of This  Remastered by Eurythmics\n",
      "\n",
      "5. I Got You Babe by Sonny & Cher\n",
      "\n",
      "6. Take On Me  2017 Acoustic by Aha\n",
      "\n",
      "7. Believe by Cher\n",
      "\n",
      "8. Let Your Love Flow by The Bellamy Brothers\n",
      "\n",
      "9. Heaven by Bryan Adams\n",
      "\n",
      "10. Together Forever by Rick Astley\n",
      "\n"
     ]
    }
   ],
   "source": [
    "ex_1 = RecommendSong(\"New Light\")\n",
    "ex_1.recommend()"
   ]
  },
  {
   "cell_type": "markdown",
   "id": "f9f1ff10-0afd-42d3-b05e-2667cc5ddc49",
   "metadata": {},
   "source": [
    "### Example 2: Lose Yourself by Eminem"
   ]
  },
  {
   "cell_type": "code",
   "execution_count": 4,
   "id": "9c1333df-f534-4699-bf3a-6ac3255548c5",
   "metadata": {},
   "outputs": [
    {
     "name": "stdout",
     "output_type": "stream",
     "text": [
      "For the song Lose Yourself by Eminem, we recommend you check out:\n",
      "\n",
      "1. Every Rose Has Its Thorn by Poison\n",
      "\n",
      "2. Brown Sugar by The Rolling Stones\n",
      "\n",
      "3. Rhinestone Cowboy by Glen Campbell\n",
      "\n",
      "4. Beat It by Michael Jackson\n",
      "\n",
      "5. Boogie Oogie Oogie  Remastered by A Taste Of Honey\n",
      "\n",
      "6. Another One Bites The Dust  2011 Remaster by Queen\n",
      "\n",
      "7. Flashdance... What A Feeling by Irene Cara\n",
      "\n",
      "8. Oh Sheila by Ready For The World\n",
      "\n",
      "9. Centerfold by The J. Geils Band\n",
      "\n",
      "10. Money For Nothing by Dire Straits\n",
      "\n"
     ]
    }
   ],
   "source": [
    "ex_2 = RecommendSong(\"Lose Yourself\")\n",
    "ex_2.recommend()"
   ]
  },
  {
   "cell_type": "markdown",
   "id": "4ef31ad4-accb-4609-b883-2930160e77f9",
   "metadata": {},
   "source": [
    "### Example 3: good 4 u by Olivia Rodrigo"
   ]
  },
  {
   "cell_type": "code",
   "execution_count": 7,
   "id": "b54b8754-eaf1-4fda-975e-f30301ca6029",
   "metadata": {},
   "outputs": [
    {
     "name": "stdout",
     "output_type": "stream",
     "text": [
      "For the song good 4 u by Olivia Rodrigo, we recommend you check out:\n",
      "\n",
      "1. I Want To Hold Your Hand  Remastered 2015 by The Beatles\n",
      "\n",
      "2. Its My Party by Lesley Gore\n",
      "\n",
      "3. The Locomotion by Little Eva\n",
      "\n",
      "4. Hello, I Love You by The Doors\n",
      "\n",
      "5. I Get Around Mono by The Beach Boys\n",
      "\n",
      "6. Baby Love by The Supremes\n",
      "\n",
      "7. Everyday People by Various Artists\n",
      "\n",
      "8. Please Mr. Postman by The Marvelettes\n",
      "\n",
      "9. Big Girls Dont Cry by Frankie Valli & The Four Seasons\n",
      "\n",
      "10. Stuck On You by Elvis Presley\n",
      "\n"
     ]
    }
   ],
   "source": [
    "ex_3 = RecommendSong(\"good 4 u\")\n",
    "ex_3.recommend()"
   ]
  },
  {
   "cell_type": "markdown",
   "id": "cd7869b4-88f3-4882-aa2c-a4df63848f9a",
   "metadata": {},
   "source": [
    "## ------------------ Your Turn ---------------------"
   ]
  },
  {
   "cell_type": "code",
   "execution_count": null,
   "id": "87370fdc-b2f1-4a82-a6ef-1fbc0e9e3fa6",
   "metadata": {},
   "outputs": [],
   "source": [
    "user_song = RecommendSong(\"\")\n",
    "user_song.recommend()"
   ]
  }
 ],
 "metadata": {
  "kernelspec": {
   "display_name": "Python 3",
   "language": "python",
   "name": "python3"
  },
  "language_info": {
   "codemirror_mode": {
    "name": "ipython",
    "version": 3
   },
   "file_extension": ".py",
   "mimetype": "text/x-python",
   "name": "python",
   "nbconvert_exporter": "python",
   "pygments_lexer": "ipython3",
   "version": "3.8.5"
  }
 },
 "nbformat": 4,
 "nbformat_minor": 5
}
